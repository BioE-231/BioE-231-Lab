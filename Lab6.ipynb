{
 "cells": [
  {
   "cell_type": "markdown",
   "metadata": {},
   "source": [
    "## Align reads to human genome to remove contamination:"
   ]
  },
  {
   "cell_type": "markdown",
   "metadata": {},
   "source": [
    "**Terminal:** bowtie2 -p 4 --very-fast --no-unal -x /data/hg19/hg19 -U /data/lab6/illumina_reads.fastq -S humanoutput.sam --un humanunaligned.fastq \n",
    "\n",
    "**Output**\n",
    "1124714 reads; of these:  \n",
    "1124714 (100.00%) were unpaired; of these:  \n",
    "1028379 (91.43%) aligned 0 times      \n",
    "87274 (7.76%) aligned exactly 1 time     \n",
    "9061 (0.81%) aligned >1 times     \n",
    "8.57% overall alignment rate  "
   ]
  },
  {
   "cell_type": "markdown",
   "metadata": {},
   "source": [
    "### Try to adjust the parameter to \"--very-sensitive\""
   ]
  },
  {
   "cell_type": "markdown",
   "metadata": {},
   "source": [
    "**Terminal:** bowtie2 -p 4 --very-sensitive --no-unal -x /data/hg19/hg19 -U /data/lab6/illumina_reads.fastq -S humanoutput2.sam --un unaligned2.fastq\n",
    "\n",
    "**Output**  \n",
    "1124714 reads; of these:  \n",
    "1124714 (100.00%) were unpaired; of these:  \n",
    "1028330 (91.43%) aligned 0 times  \n",
    "86198 (7.66%) aligned exactly 1 time  \n",
    "10186 (0.91%) aligned >1 times  \n",
    "8.57% overall alignment rate"
   ]
  },
  {
   "cell_type": "markdown",
   "metadata": {},
   "source": [
    "> **The percentage of reads that map to humans.**  \n",
    "</Br>\n",
    "The overall alignment rate is 8.57%, which means that there are 8.57% of the reads contaminated by human genome.\n",
    "\n",
    ">**The change of parameter will influence the output.**  \n",
    "</Br>\n",
    "From changing \"--very-fast\" to \"--very-sensitive\", though the overall alignment rate doesn't change, the percentage that reads aligned >1 times increases from 0.81% to 0.91%, which seems to generate a more accurate outcome."
   ]
  },
  {
   "cell_type": "markdown",
   "metadata": {},
   "source": [
    "### Align the filtered reads to the S. oneidensis reference genome"
   ]
  },
  {
   "cell_type": "markdown",
   "metadata": {},
   "source": [
    "**Terminal:** bowtie2 -p 4 --very-sensitive --no-unal\n",
    "-x /data/lab6/shewanella_oneidensis_mr-1  -U filtered.fastq -S S.oneid-x /data/ -U filtered.fastq -S S.oneidensisoutput.sam  --u\n",
    "ensisoutput.sam  --un unaligned2.fastq\n",
    "\n",
    "**Output**  \n",
    "1028330 reads; of these:  \n",
    "1028330 (100.00%) were unpaired; of these:  \n",
    "298063 (28.99%) aligned 0 times     \n",
    "688180 (66.92%) aligned exactly 1 time     \n",
    "42087 (4.09%) aligned >1 times    \n",
    "71.01% overall alignment rate"
   ]
  },
  {
   "cell_type": "markdown",
   "metadata": {},
   "source": [
    "> **The percentage of filtered reads that map to S. oneidensis.**  \n",
    "<Br.>\n",
    "The overall alignment rate is 71.01%, much higher than the one, which raw reads map to human genome."
   ]
  },
  {
   "cell_type": "markdown",
   "metadata": {},
   "source": [
    "## Generate a coverage plot:"
   ]
  },
  {
   "cell_type": "code",
   "execution_count": 127,
   "metadata": {},
   "outputs": [],
   "source": [
    "import matplotlib.pyplot as plt\n",
    "import numpy as np\n",
    "from operator import add\n",
    "%matplotlib inline"
   ]
  },
  {
   "cell_type": "code",
   "execution_count": 131,
   "metadata": {},
   "outputs": [
    {
     "name": "stdout",
     "output_type": "stream",
     "text": [
      "AE014299.2\t1\t0\n",
      "\n",
      "AE014299.2\t2\t1\n",
      "\n",
      "AE014299.2\t3\t2\n",
      "\n",
      "AE014299.2\t4\t2\n",
      "\n",
      "AE014299.2\t5\t2\n",
      "\n",
      "AE014299.2\t6\t2\n",
      "\n",
      "AE014299.2\t7\t2\n",
      "\n",
      "AE014299.2\t8\t2\n",
      "\n",
      "AE014299.2\t9\t2\n",
      "\n",
      "AE014299.2\t10\t2\n",
      "\n"
     ]
    },
    {
     "data": {
      "text/plain": [
       "'AE014299.2\\t101\\t8\\n'"
      ]
     },
     "execution_count": 131,
     "metadata": {},
     "output_type": "execute_result"
    }
   ],
   "source": [
    "rawdata = open(\"pileup.tab\").readlines() # To see what is in the '.tab' format file.\n",
    "for i in range(10):\n",
    "    print(rawdata[i])\n",
    "rawdata[100]"
   ]
  },
  {
   "cell_type": "code",
   "execution_count": 132,
   "metadata": {},
   "outputs": [
    {
     "data": {
      "text/plain": [
       "281"
      ]
     },
     "execution_count": 132,
     "metadata": {},
     "output_type": "execute_result"
    }
   ],
   "source": [
    "plot_data = [[],[]]\n",
    "for i in rawdata:\n",
    "    temp = i.split(\"\\t\")\n",
    "    x = int(temp[1])\n",
    "    y = int(temp[2].strip())\n",
    "    plot_data[0].append(x)\n",
    "    plot_data[1].append(y)\n",
    "max(plot_data[1])"
   ]
  },
  {
   "cell_type": "code",
   "execution_count": 137,
   "metadata": {},
   "outputs": [
    {
     "name": "stdout",
     "output_type": "stream",
     "text": [
      "The maximum coverage is: 281\n",
      "The minimum coverage is: 0\n",
      "The minimum coverage is: 37\n"
     ]
    }
   ],
   "source": [
    "addup = 0\n",
    "for i in plot_data[1]:\n",
    "    addup += i\n",
    "average = addup // len(plot_data[1])\n",
    "print('The maximum coverage is:', max(plot_data[1]))\n",
    "print('The minimum coverage is:', min(plot_data[1]))\n",
    "print('The minimum coverage is:', average)"
   ]
  },
  {
   "cell_type": "code",
   "execution_count": 79,
   "metadata": {},
   "outputs": [
    {
     "data": {
      "text/plain": [
       "array([[      1,       2,       3, ..., 4969809, 4969810, 4969811],\n",
       "       [      0,       1,       2, ...,       4,       3,       1]])"
      ]
     },
     "execution_count": 79,
     "metadata": {},
     "output_type": "execute_result"
    }
   ],
   "source": [
    "np_data = np.array(plot_data)\n",
    "np_data"
   ]
  },
  {
   "cell_type": "code",
   "execution_count": 80,
   "metadata": {},
   "outputs": [
    {
     "data": {
      "image/png": "[encoded data removed]",
      "text/plain": [
       "<Figure size 432x288 with 1 Axes>"
      ]
     },
     "metadata": {
      "needs_background": "light"
     },
     "output_type": "display_data"
    }
   ],
   "source": [
    "plt.plot(np_data[0],np_data[1], color = \"red\")\n",
    "plt.xlabel('Position in Genome')\n",
    "plt.ylabel('Depth of Coverage')\n",
    "plt.title('Genome Position vs Depth of Coverage')\n",
    "plt.show()"
   ]
  },
  {
   "cell_type": "code",
   "execution_count": 152,
   "metadata": {},
   "outputs": [
    {
     "data": {
      "image/png": "[encoded data removed]",
      "text/plain": [
       "<Figure size 720x360 with 1 Axes>"
      ]
     },
     "metadata": {
      "needs_background": "light"
     },
     "output_type": "display_data"
    }
   ],
   "source": [
    "plt.figure(figsize=[10,5])\n",
    "plt.hist(np_data[1],120)\n",
    "plt.axis([0, 120, 0, 600000])\n",
    "plt.xlabel('Depth of Coverage')\n",
    "plt.ylabel('Count')\n",
    "plt.title('Distribution of Coverage Depth')\n",
    "plt.show()"
   ]
  },
  {
   "cell_type": "markdown",
   "metadata": {},
   "source": [
    "## Extra Credit 1:"
   ]
  },
  {
   "cell_type": "code",
   "execution_count": 113,
   "metadata": {},
   "outputs": [
    {
     "data": {
      "text/plain": [
       "'chr1\\t16533\\t1\\n'"
      ]
     },
     "execution_count": 113,
     "metadata": {},
     "output_type": "execute_result"
    }
   ],
   "source": [
    "rawdata = open(\"jamie.tab\").readlines()\n",
    "rawdata[10] # To see how the data looks like in the '.tab' file."
   ]
  },
  {
   "cell_type": "code",
   "execution_count": 114,
   "metadata": {},
   "outputs": [],
   "source": [
    "rawdata = open(\"jamie.tab\").readlines()\n",
    "count_all = []\n",
    "depth_all =[]\n",
    "for num in range(1,23):\n",
    "    count = 0\n",
    "    depth_oc = 0\n",
    "    for i in rawdata:\n",
    "        if \"chr%d\" %num in i:\n",
    "            temp = i.split(\"\\t\")\n",
    "            depth = int(temp[2].strip())\n",
    "            count += 1\n",
    "            depth_oc += depth\n",
    "    count_all.append(count)\n",
    "    depth_all.append(depth_oc)\n",
    " # Generate two lists, 'count_all' includes the count of length of chromosomes, 'depth_all' includes depth for each chromosome."
   ]
  },
  {
   "cell_type": "code",
   "execution_count": 115,
   "metadata": {},
   "outputs": [],
   "source": [
    "for letter in ['X','Y']:\n",
    "    count = 0\n",
    "    depth_oc = 0\n",
    "    for i in rawdata:\n",
    "        if \"chr%s\" %letter in i:\n",
    "            temp = i.split(\"\\t\")\n",
    "            depth= int(temp[2].strip())\n",
    "            count += 1\n",
    "            depth_oc += depth\n",
    "    count_all.append(count)\n",
    "    depth_all.append(depth_oc)"
   ]
  },
  {
   "cell_type": "code",
   "execution_count": 116,
   "metadata": {},
   "outputs": [
    {
     "data": {
      "text/plain": [
       "24"
      ]
     },
     "execution_count": 116,
     "metadata": {},
     "output_type": "execute_result"
    }
   ],
   "source": [
    "len(count_all)\n",
    "# The data includes 24 chromosomes."
   ]
  },
  {
   "cell_type": "code",
   "execution_count": 117,
   "metadata": {},
   "outputs": [
    {
     "data": {
      "text/plain": [
       "24"
      ]
     },
     "execution_count": 117,
     "metadata": {},
     "output_type": "execute_result"
    }
   ],
   "source": [
    "len(depth_all)"
   ]
  },
  {
   "cell_type": "code",
   "execution_count": 118,
   "metadata": {},
   "outputs": [
    {
     "name": "stdout",
     "output_type": "stream",
     "text": [
      "[0.9999683053424431, 1.000033137320247, 0.9999736113345408, 0.9999678523357649, 0.9999666274539251, 0.9999763697845161, 1.0000012755679626, 0.9999681397639295, 0.9999644073324206, 0.99995242543442, 0.9999622839056374, 1.0000136463192466, 0.9999720813941104, 0.9999686559679037, 0.9999576194737307, 0.9999723608368134, 0.999975887100868, 0.9999073353348901, 0.9999519836957972, 0.9999550348479928, 0.9999886363959193, 1.0006911633071598, 0.9999781456808912, 1.0009386977106434]\n"
     ]
    }
   ],
   "source": [
    "average_depth = [] # Calculate the average depth of each chromosome.\n",
    "for i in range(24):\n",
    "    average_depth.append(depth_all[i]/count_all[i])\n",
    "print(average_depth)"
   ]
  },
  {
   "cell_type": "code",
   "execution_count": 121,
   "metadata": {},
   "outputs": [
    {
     "data": {
      "image/png": "[encoded data removed]",
      "text/plain": [
       "<Figure size 432x288 with 1 Axes>"
      ]
     },
     "metadata": {
      "needs_background": "light"
     },
     "output_type": "display_data"
    }
   ],
   "source": [
    "X_axis = [_ for _ in range(1,23)] + ['X', 'Y']\n",
    "plt.plot(X_axis, average_depth, color = \"orange\")\n",
    "plt.yticks(np.arange(0.9999, 1.001, step = 0.0002))\n",
    "plt.xlabel('Chromosome')\n",
    "plt.ylabel('Average Depth of Coverage')\n",
    "plt.title(\"Average Depth of Jamie's Chromosome\")\n",
    "plt.show()\n"
   ]
  },
  {
   "cell_type": "code",
   "execution_count": 157,
   "metadata": {},
   "outputs": [
    {
     "data": {
      "image/png": "[encoded data removed]",
      "text/plain": [
       "<Figure size 720x360 with 1 Axes>"
      ]
     },
     "metadata": {
      "needs_background": "light"
     },
     "output_type": "display_data"
    }
   ],
   "source": [
    "plt.figure(figsize=[10,5])\n",
    "plt.hist(average_depth,100)\n",
    "plt.xlabel('Average depth of Coverage')\n",
    "plt.ylabel('Count')\n",
    "plt.yticks(np.arange(1,9,step = 2))\n",
    "plt.title('Distribution of Coverage Depth')\n",
    "plt.show()"
   ]
  },
  {
   "cell_type": "code",
   "execution_count": 166,
   "metadata": {},
   "outputs": [
    {
     "name": "stdout",
     "output_type": "stream",
     "text": [
      "The length of Jamie's X chromosome is: 1509999\n",
      "The length of Jamie's Y chromosome is: 243955\n",
      "The ratio of the length of X and Y chromosome is: 6.19 : 1\n"
     ]
    }
   ],
   "source": [
    "print(\"The length of Jamie's X chromosome is:\", count_all[22])\n",
    "print(\"The length of Jamie's Y chromosome is:\", count_all[23])\n",
    "print(\"The ratio of the length of X and Y chromosome is:\", \"%.2f : 1\" % (count_all[22]/count_all[23]))"
   ]
  },
  {
   "cell_type": "markdown",
   "metadata": {},
   "source": [
    "### The biological gender of Jamie.\n",
    "According to [ResearchGate](https://www.researchgate.net/figure/Relative-sizes-of-the-X-and-Y-chromosomes-in-human-H-sapiens-mouse-Mus-musculus_fig3_259723517), the document size of X chromosome is 155.3Mb, and the document of Y chromosome is 59.4Mb. Therefore, for a normal male, threoretical length ratio of X and Y chromosome should be 2.61:1. \n",
    "\n",
    "For Jamie, the ratio of the length of X and Y chromosome is up to 6.19 : 1, so, it is believed that Jamie is a male, but maybe with a genetype of XXY."
   ]
  },
  {
   "cell_type": "markdown",
   "metadata": {},
   "source": [
    "### Extra Credit 2"
   ]
  },
  {
   "cell_type": "code",
   "execution_count": 170,
   "metadata": {},
   "outputs": [
    {
     "data": {
      "text/plain": [
       "4498947"
      ]
     },
     "execution_count": 170,
     "metadata": {},
     "output_type": "execute_result"
    }
   ],
   "source": [
    "plot_data[1].index(max(plot_data[1]))\n",
    "# Obtain the position of the highest depth."
   ]
  },
  {
   "cell_type": "code",
   "execution_count": 177,
   "metadata": {},
   "outputs": [
    {
     "data": {
      "image/png": "[encoded data removed]",
      "text/plain": [
       "<Figure size 432x288 with 1 Axes>"
      ]
     },
     "metadata": {
      "needs_background": "light"
     },
     "output_type": "display_data"
    }
   ],
   "source": [
    "plt.plot(np_data[0][4488947:4508947],np_data[1][4488947:4508947], color = \"red\")\n",
    "plt.xlabel('Position in Genome')\n",
    "plt.xticks(np.arange(4490000, 4515000, step = 5000))\n",
    "plt.ylabel('Depth of Coverage')\n",
    "plt.title('Genome Position vs Depth of Coverage')\n",
    "plt.show()\n",
    "# \"Zoom in\" the extra high depth of coverage region."
   ]
  },
  {
   "cell_type": "markdown",
   "metadata": {},
   "source": [
    "### Terminal \n",
    "samtools view -b S.oneidensisoutput.sorted.bam AE014299.2:4498948-4498948 > AE.bam  \n",
    "samtools view AE.bam\n",
    "\n",
    "**Output**  \n",
    "read593286      0       AE014299.2      4498948 1       300M    *       0       0       CTCAACGGCAACGTGGGCACCGGCGGCCAGGACACTGCGCCGGTCGACACCCAGGCCCCGAGCGTGGTGGTCAACATCGTTGACGACAAGCTGACTGTGGGCGAGACCAGCGAGGTCACCTTCACCTTCAGCGAGAAGGTCAAAGACTTCGAAGTGGGCGACCTGACCGTGGTGGGCGGCACTGTTACCGACCTCAAGACCACCGACGGCGGCAAGACCTGGAACGGGACCTTCACGCCGACCCCAAGCTTCACTGGCACCGCCAGCGTCACCGTGAACAACACCAGCTACCCCGACCTC    CCCCCGGDGGGGGGFGGGGGGDCFEFFGCFFGGGGGGGGGGEGFGEGGGGGGCFGGGGG@CFFFGGGGGGGGGGGGGGGGG8FGGGGGGBEGDFGGGG<E7=FGGFGGG?FFF<<FFEGGGGGGGG9DFFDFEEBFECDGGEGGCFFBFGCFF:<F<*=CFGEGGC2?FFF:B:>GGGGD?C@ECG<+3;;:?CC<C<C;0;;;2::22CED>:>1;;C8;;2+02:5/1?E?8@F88C822C*81*/2ACF?:F+2A8<5*:CE*;*1:/;C*22//<<0/**2*1/30+01*//*2:C    AS:i:-14        XS:i:-14        XN:i:0  XM:i:6  XO:i:0  XG:i:0  NM:i:6 MD:Z:223C22G35G0G7A4T3   YT:Z:UU"
   ]
  },
  {
   "cell_type": "markdown",
   "metadata": {},
   "source": [
    "## The BLAST results is shown as follows:\n",
    "![](https://i.imgur.com/vvfXXSl.png)"
   ]
  },
  {
   "cell_type": "code",
   "execution_count": null,
   "metadata": {},
   "outputs": [],
   "source": []
  }
 ],
 "metadata": {
  "kernelspec": {
   "display_name": "Python 3",
   "language": "python",
   "name": "python3"
  },
  "language_info": {
   "codemirror_mode": {
    "name": "ipython",
    "version": 3
   },
   "file_extension": ".py",
   "mimetype": "text/x-python",
   "name": "python",
   "nbconvert_exporter": "python",
   "pygments_lexer": "ipython3",
   "version": "3.6.6"
  }
 },
 "nbformat": 4,
 "nbformat_minor": 2
}
