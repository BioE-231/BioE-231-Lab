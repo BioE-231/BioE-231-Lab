{
 "cells": [
  {
   "cell_type": "code",
   "execution_count": 4,
   "metadata": {},
   "outputs": [],
   "source": [
    "import sqlite3\n",
    "from Bio import SeqIO\n",
    "import subprocess\n",
    "from beautifultable import BeautifulTable as BT\n",
    "conn = sqlite3.connect(\"Sequence.db\")\n",
    "c = conn.cursor()"
   ]
  },
  {
   "cell_type": "code",
   "execution_count": 13,
   "metadata": {},
   "outputs": [],
   "source": [
    "name_list = [\"YES\",\"NO\",\"'AND'\",\"'OR'\"]\n",
    "start_OBS = [26,44,30,27]\n",
    "end_OBS = [47,66,45,46]\n",
    "start_OBS2 = [\"N/A\",\"N/A\", 49, 47]\n",
    "end_OBS2 = [\"N/A\",\"N/A\", 64, 66]\n",
    "start_RED = [16,40,16,16]\n",
    "end_RED = [21,43,23,26]\n",
    "start_RED2 = [49,74,70,67]\n",
    "end_RED2 = [54,77,77,77]\n",
    "c.execute(\"\"\"DROP TABLE YES;\"\"\")\n",
    "c.execute(\"\"\"DROP TABLE NO;\"\"\")\n",
    "c.execute(\"\"\"DROP TABLE 'AND';\"\"\")\n",
    "c.execute(\"\"\"DROP TABLE 'OR';\"\"\")\n",
    "for i in range(len(name_list)):\n",
    "    c.execute(\"\"\"CREATE TABLE %s (name TEXT PRIMARY KEY ASC,\n",
    "                                  start_OBS INT,\n",
    "                                  end_OBS INT,\n",
    "                                  start_OBS2 NOT NULL,\n",
    "                                  end_OBS2 NOT NULL,\n",
    "                                  start_RED INT,\n",
    "                                  end_RED INT,\n",
    "                                  start_RED2 INT,\n",
    "                                  end_RED2 INT);\"\"\" % name_list[i])"
   ]
  },
  {
   "cell_type": "code",
   "execution_count": 14,
   "metadata": {},
   "outputs": [],
   "source": [
    "for i in range(len(name_list)):\n",
    "    c.execute(\"\"\"INSERT INTO %s VALUES (\"%s\", %d, %d, \"%s\", \"%s\", %d, %d, %d, %d);\"\"\" % (name_list[i], name_list[i], start_OBS[i], end_OBS[i], start_OBS2[i], end_OBS2[i],start_RED[i], end_RED[i], start_RED2[i], end_RED2[i]))\n",
    "\n",
    "conn.commit()"
   ]
  },
  {
   "cell_type": "code",
   "execution_count": 15,
   "metadata": {},
   "outputs": [
    {
     "name": "stdout",
     "output_type": "stream",
     "text": [
      "+------+---------+-------+---------+-------+---------+-------+---------+-------+\n",
      "| Name | OBS1_st | OBS1_ | OBS2_st | OBS2_ | RED1_st | RED1_ | RED2_st | RED2_ |\n",
      "|      |   art   |  end  |   art   |  end  |   art   |  end  |   art   |  end  |\n",
      "+------+---------+-------+---------+-------+---------+-------+---------+-------+\n",
      "| YES  |   26    |  47   |   N/A   |  N/A  |   16    |  21   |   49    |  54   |\n",
      "+------+---------+-------+---------+-------+---------+-------+---------+-------+\n",
      "+------+---------+-------+---------+-------+---------+-------+---------+-------+\n",
      "| Name | OBS1_st | OBS1_ | OBS2_st | OBS2_ | RED1_st | RED1_ | RED2_st | RED2_ |\n",
      "|      |   art   |  end  |   art   |  end  |   art   |  end  |   art   |  end  |\n",
      "+------+---------+-------+---------+-------+---------+-------+---------+-------+\n",
      "|  NO  |   44    |  66   |   N/A   |  N/A  |   40    |  43   |   74    |  77   |\n",
      "+------+---------+-------+---------+-------+---------+-------+---------+-------+\n",
      "+-------+---------+-------+---------+-------+---------+-------+---------+-------+\n",
      "| Name  | OBS1_st | OBS1_ | OBS2_st | OBS2_ | RED1_st | RED1_ | RED2_st | RED2_ |\n",
      "|       |   art   |  end  |   art   |  end  |   art   |  end  |   art   |  end  |\n",
      "+-------+---------+-------+---------+-------+---------+-------+---------+-------+\n",
      "| 'AND' |   30    |  45   |   49    |  64   |   16    |  23   |   70    |  77   |\n",
      "+-------+---------+-------+---------+-------+---------+-------+---------+-------+\n",
      "+------+---------+-------+---------+-------+---------+-------+---------+-------+\n",
      "| Name | OBS1_st | OBS1_ | OBS2_st | OBS2_ | RED1_st | RED1_ | RED2_st | RED2_ |\n",
      "|      |   art   |  end  |   art   |  end  |   art   |  end  |   art   |  end  |\n",
      "+------+---------+-------+---------+-------+---------+-------+---------+-------+\n",
      "| 'OR' |   27    |  46   |   47    |  66   |   16    |  26   |   67    |  77   |\n",
      "+------+---------+-------+---------+-------+---------+-------+---------+-------+\n"
     ]
    }
   ],
   "source": [
    "def printtable(name):\n",
    "    c.execute(\"\"\"SELECT * FROM %s;\"\"\" % name)\n",
    "    table = c.fetchall()\n",
    "    beautiful_table = BT()\n",
    "    beautiful_table.column_headers = [\"Name\", \"OBS1_start\", \"OBS1_end\", \"OBS2_start\", \"OBS2_end\", \"RED1_start\", \"RED1_end\", \"RED2_start\", \"RED2_end\"]\n",
    "    for row in table:\n",
    "        beautiful_table.append_row(row)\n",
    "    print(beautiful_table)\n",
    "printtable('YES')\n",
    "printtable('NO')\n",
    "printtable(\"'AND'\")\n",
    "printtable(\"'OR'\")"
   ]
  },
  {
   "cell_type": "markdown",
   "metadata": {},
   "source": [
    "### Created four tables with the information of designed riboswitches."
   ]
  },
  {
   "cell_type": "code",
   "execution_count": 17,
   "metadata": {},
   "outputs": [],
   "source": [
    "YES = 'GGGCGACCCUGAUGAGCUUGAGUUUAGCUCGUCACUGUCCAGGUUCAAUCAGGCGAAACGGUGAAAGCCGUAGGUUGCCC'\n",
    "NO = 'GGCAGGUACAUACAGCUGAUGAGUCCCAAAUAGGACGAAACGCGACACACACCACUAAACCGUGCAGUGUUUUGCGUCCUGUAUUCCACUGC'\n",
    "AND = 'GGGCGACCCUGAUGAGCUUGGUUUAGUAUUUACAGCUCCAUACAUGAGGUGUUAUCCCUAUGCAAGUUCGAUCAGGCGAAACGGUGAAAGCCGUAGGUUGCCCAGAGACAAU'\n",
    "OR = 'GGGCGACCCCUGAUGGCUUGGUUGAGUAUUUACAGCUCCAUAUACAUGAGGUGUUCUCCCUACGCAAGUUCGAUCAGGCGAAACGGUGAAAGCCGUAGGUUGCCC'\n",
    "sequence = [YES, NO, AND, OR]"
   ]
  },
  {
   "cell_type": "code",
   "execution_count": 129,
   "metadata": {},
   "outputs": [],
   "source": [
    "p_name = r\"C:\\Users\\59494\\PycharmProjects\\Biobiology\\Lab5\\RNA\\RNAfold.exe\"\n",
    "def RNAfold(str):\n",
    "    p = subprocess.run([p_name], input = bytes(str,'ascii'), stdout = subprocess.PIPE)\n",
    "    return (p.stdout.decode().split())\n"
   ]
  },
  {
   "cell_type": "code",
   "execution_count": 224,
   "metadata": {},
   "outputs": [
    {
     "data": {
      "text/plain": [
       "['GGGCGACCCUGAUGAGCUUGAGUUUAGCUCGUCACUGUCCAGGUUCAAUCAGGCGAAACGGUGAAAGCCGUAGGUUGCCC',\n",
       " '((((((((.(((((((((.......))))))))).((.((.(((...))).))))..(((((....))))).))))))))',\n",
       " '(-33.00)']"
      ]
     },
     "execution_count": 224,
     "metadata": {},
     "output_type": "execute_result"
    }
   ],
   "source": [
    "RNAfold(YES)"
   ]
  },
  {
   "cell_type": "markdown",
   "metadata": {},
   "source": [
    "### YES\n",
    "\n",
    "![](https://i.imgur.com/rFkqTLt.png)"
   ]
  },
  {
   "cell_type": "code",
   "execution_count": 131,
   "metadata": {},
   "outputs": [
    {
     "data": {
      "text/plain": [
       "['GGCAGGUACAUACAGCUGAUGAGUCCCAAAUAGGACGAAACGCGACACACACCACUAAACCGUGCAGUGUUUUGCGUCCUGUAUUCCACUGC',\n",
       " '.((((....((((((.......((((......))))...((((((.((((..(((......)))..)))).)))))).))))))....))))',\n",
       " '(-28.10)']"
      ]
     },
     "execution_count": 131,
     "metadata": {},
     "output_type": "execute_result"
    }
   ],
   "source": [
    "RNAfold(NO)"
   ]
  },
  {
   "cell_type": "markdown",
   "metadata": {},
   "source": [
    "### NO\n",
    "\n",
    "![](https://i.imgur.com/FLjlUlR.png)"
   ]
  },
  {
   "cell_type": "code",
   "execution_count": 112,
   "metadata": {},
   "outputs": [
    {
     "data": {
      "text/plain": [
       "['GGGCGACCCUGAUGAGCUUGGUUUAGUAUUUACAGCUCCAUACAUGAGGUGUUAUCCCUAUGCAAGUUCGAUCAGGCGAAACGGUGAAAGCCGUAGGUUGCCCAGAGACAAU',\n",
       " '((((((((((((((((((((...(((.....(((.(((.......))).))).....)))..))))))).))))).....(((((....))))).)))))))).........',\n",
       " '(-42.10)']"
      ]
     },
     "execution_count": 112,
     "metadata": {},
     "output_type": "execute_result"
    }
   ],
   "source": [
    "RNAfold(AND)"
   ]
  },
  {
   "cell_type": "markdown",
   "metadata": {},
   "source": [
    "### AND\n",
    "\n",
    "![](https://i.imgur.com/0EHLVpF.png)"
   ]
  },
  {
   "cell_type": "code",
   "execution_count": 223,
   "metadata": {},
   "outputs": [
    {
     "data": {
      "text/plain": [
       "['GGGCGACCCCUGAUGGCUUGGUUGAGUAUUUACAGCUCCAUAUACAUGAGGUGUUCUCCCUACGCAAGUUCGAUCAGGCGAAACGGUGAAAGCCGUAGGUUGCCC',\n",
       " '((((((((((((((((((((((.(((.....(((.(((.........))).))).)))...)).))))))..))))))....(((((....))))).))))))))',\n",
       " '(-37.50)']"
      ]
     },
     "execution_count": 223,
     "metadata": {},
     "output_type": "execute_result"
    }
   ],
   "source": [
    "RNAfold(OR)"
   ]
  },
  {
   "cell_type": "markdown",
   "metadata": {},
   "source": [
    "### OR\n",
    "\n",
    "![](https://i.imgur.com/7CcECmi.png)"
   ]
  },
  {
   "cell_type": "code",
   "execution_count": 151,
   "metadata": {},
   "outputs": [],
   "source": [
    "def RNAfold_temp(str,struc):\n",
    "    for temp in range(50):\n",
    "        p = subprocess.run([p_name,\"--temp=%d\" % temp], input = bytes(str,'ascii'), stdout = subprocess.PIPE)\n",
    "        if p.stdout.decode().split()[1] == struc:\n",
    "            return p.stdout.decode().split(), temp"
   ]
  },
  {
   "cell_type": "markdown",
   "metadata": {},
   "source": [
    "### Write a function to determine the temp. leads to the riboswitches structure in paper\n",
    "\n",
    "The function takes two arguments: the sequence and the supposed stem-loop structure, and then return the output of running RNAfold.exe and temp."
   ]
  },
  {
   "cell_type": "code",
   "execution_count": 282,
   "metadata": {},
   "outputs": [
    {
     "data": {
      "text/plain": [
       "(['GGGCGACCCUGAUGAGCUUGAGUUUAGCUCGUCACUGUCCAGGUUCAAUCAGGCGAAACGGUGAAAGCCGUAGGUUGCCC',\n",
       "  '((((((((((((((((((((.(..(((.......))).)))))))).))))).....(((((....))))).))))))))',\n",
       "  '(-56.56)'],\n",
       " 0)"
      ]
     },
     "execution_count": 282,
     "metadata": {},
     "output_type": "execute_result"
    }
   ],
   "source": [
    "RNAfold_temp(YES,'((((((((((((((((((((.(..(((.......))).)))))))).))))).....(((((....))))).))))))))')"
   ]
  },
  {
   "cell_type": "code",
   "execution_count": 157,
   "metadata": {},
   "outputs": [
    {
     "data": {
      "text/plain": [
       "(['GGCAGGUACAUACAGCUGAUGAGUCCCAAAUAGGACGAAACGCGACACACACCACUAAACCGUGCAGUGUUUUGCGUCCUGUAUUCCACUGC',\n",
       "  '.((((....((((((.......((((......))))...((((((.((((..(((......)))..)))).)))))).))))))....))))',\n",
       "  '(-43.22)'],\n",
       " 16)"
      ]
     },
     "execution_count": 157,
     "metadata": {},
     "output_type": "execute_result"
    }
   ],
   "source": [
    "RNAfold_temp(NO,'.((((....((((((.......((((......))))...((((((.((((..(((......)))..)))).)))))).))))))....))))')"
   ]
  },
  {
   "cell_type": "code",
   "execution_count": 241,
   "metadata": {},
   "outputs": [],
   "source": [
    "YES_OBS = open(\"YES_constraint.txt\",\"w\")\n",
    "YES_OBS.write(YES + \"\\n\")\n",
    "for i in range(len(YES)):\n",
    "    if i > 24 and i < 47:\n",
    "        YES_OBS.write(\"x\")\n",
    "    else:\n",
    "        YES_OBS.write(\".\")\n",
    "YES_OBS.close()"
   ]
  },
  {
   "cell_type": "code",
   "execution_count": 242,
   "metadata": {},
   "outputs": [],
   "source": [
    "NO_OBS = open(\"NO_constraint.txt\",\"w\")\n",
    "NO_OBS.write(NO + \"\\n\")\n",
    "for i in range(len(NO)):\n",
    "    if i > 42 and i < 66:\n",
    "        NO_OBS.write(\"x\")\n",
    "    else:\n",
    "        NO_OBS.write(\".\")\n",
    "NO_OBS.close()"
   ]
  },
  {
   "cell_type": "code",
   "execution_count": 320,
   "metadata": {},
   "outputs": [],
   "source": [
    "p = subprocess.run([p_name, \"--temp=37\",\"--constraint\"], \n",
    "                    input = bytes(open(\"YES_constraint.txt\").read(), \"ascii\"), \n",
    "                    stdout = subprocess.PIPE,\n",
    "                    stderr = subprocess.PIPE,\n",
    "                    check = True)"
   ]
  },
  {
   "cell_type": "markdown",
   "metadata": {},
   "source": [
    "### YES-OBS_Bind\n",
    "\n",
    "![](https://i.imgur.com/P2mkbVU.png) "
   ]
  },
  {
   "cell_type": "code",
   "execution_count": 291,
   "metadata": {},
   "outputs": [
    {
     "data": {
      "text/plain": [
       "['GGCAGGUACAUACAGCUGAUGAGUCCCAAAUAGGACGAAACGCGACACACACCACUAAACCGUGCAGUGUUUUGCGUCCUGUAUUCCACUGC',\n",
       " '.((((....((((((..((((.((((......))))(((((((.......................))))))).))))))))))....))))',\n",
       " '(-20.80)']"
      ]
     },
     "execution_count": 291,
     "metadata": {},
     "output_type": "execute_result"
    }
   ],
   "source": [
    "p = subprocess.run([p_name, \"--temp=37\",\"--constraint\"], \n",
    "                    input = bytes(open(\"NO_constraint.txt\").read(), \"ascii\"), \n",
    "                    stdout = subprocess.PIPE,\n",
    "                    stderr = subprocess.PIPE,\n",
    "                    check = True)\n",
    "p.stdout.decode().split()"
   ]
  },
  {
   "cell_type": "markdown",
   "metadata": {},
   "source": [
    "### NO-OBS_Bind\n",
    "\n",
    "![](https://i.imgur.com/Ad2dhFQ.png)"
   ]
  },
  {
   "cell_type": "code",
   "execution_count": 295,
   "metadata": {},
   "outputs": [],
   "source": [
    "AND_OBS1 = open(\"AND_OBS1.txt\",\"w\")\n",
    "AND_OBS1.write(AND + '\\n')\n",
    "for i in range(len(AND)):\n",
    "    if i > 28 and i < 45:\n",
    "        AND_OBS1.write(\"x\")\n",
    "    else:\n",
    "        AND_OBS1.write(\".\")\n",
    "AND_OBS1.close()"
   ]
  },
  {
   "cell_type": "code",
   "execution_count": 296,
   "metadata": {},
   "outputs": [],
   "source": [
    "AND_OBS2 = open(\"AND_OBS2.txt\",\"w\")\n",
    "AND_OBS2.write(AND + '\\n')\n",
    "for i in range(len(AND)):\n",
    "    if i > 47  and i < 64:\n",
    "        AND_OBS2.write(\"x\")\n",
    "    else:\n",
    "        AND_OBS2.write(\".\")\n",
    "AND_OBS2.close()"
   ]
  },
  {
   "cell_type": "code",
   "execution_count": 299,
   "metadata": {},
   "outputs": [],
   "source": [
    "AND_OBS12 = open(\"AND_OBS12.txt\",\"w\")\n",
    "AND_OBS12.write(AND + '\\n')\n",
    "for i in range(len(AND)):\n",
    "    if i > 47  and i < 64:\n",
    "        AND_OBS12.write(\"x\")\n",
    "    elif i > 28 and i < 45:\n",
    "        AND_OBS12.write(\"x\")\n",
    "    else:\n",
    "        AND_OBS12.write(\".\")\n",
    "AND_OBS12.close()"
   ]
  },
  {
   "cell_type": "code",
   "execution_count": 322,
   "metadata": {},
   "outputs": [
    {
     "data": {
      "text/plain": [
       "['GGGCGACCCUGAUGAGCUUGGUUUAGUAUUUACAGCUCCAUACAUGAGGUGUUAUCCCUAUGCAAGUUCGAUCAGGCGAAACGGUGAAAGCCGUAGGUUGCCCAGAGACAAU',\n",
       " '((((((((((((((((((((...(((.....................((......)))))..))))))).))))).....(((((....))))).)))))))).........',\n",
       " '(-42.70)']"
      ]
     },
     "execution_count": 322,
     "metadata": {},
     "output_type": "execute_result"
    }
   ],
   "source": [
    "p = subprocess.run([p_name, \"--temp=25\",\"--constraint\"], \n",
    "                    input = bytes(open(\"AND_OBS1.txt\").read(), \"ascii\"), \n",
    "                    stdout = subprocess.PIPE,\n",
    "                    stderr = subprocess.PIPE,\n",
    "                    check = True)\n",
    "p.stdout.decode().split()"
   ]
  },
  {
   "cell_type": "markdown",
   "metadata": {},
   "source": [
    "### AND_OBS1_Bind\n",
    "![](https://i.imgur.com/B8mQ0uG.png)"
   ]
  },
  {
   "cell_type": "code",
   "execution_count": 323,
   "metadata": {},
   "outputs": [
    {
     "data": {
      "text/plain": [
       "['GGGCGACCCUGAUGAGCUUGGUUUAGUAUUUACAGCUCCAUACAUGAGGUGUUAUCCCUAUGCAAGUUCGAUCAGGCGAAACGGUGAAAGCCGUAGGUUGCCCAGAGACAAU',\n",
       " '(((((((((((((((((((((...(((.......))))))........................))))).))))).....(((((....))))).)))))))).........',\n",
       " '(-37.11)']"
      ]
     },
     "execution_count": 323,
     "metadata": {},
     "output_type": "execute_result"
    }
   ],
   "source": [
    "p = subprocess.run([p_name, \"--temp=25\",\"--constraint\"], \n",
    "                    input = bytes(open(\"AND_OBS2.txt\").read(), \"ascii\"), \n",
    "                    stdout = subprocess.PIPE,\n",
    "                    stderr = subprocess.PIPE,\n",
    "                    check = True)\n",
    "p.stdout.decode().split()"
   ]
  },
  {
   "cell_type": "markdown",
   "metadata": {},
   "source": [
    "### AND_OBS2_Bind\n",
    "![](https://i.imgur.com/nbv3le6.png)"
   ]
  },
  {
   "cell_type": "code",
   "execution_count": 325,
   "metadata": {},
   "outputs": [
    {
     "data": {
      "text/plain": [
       "['GGGCGACCCUGAUGAGCUUGGUUUAGUAUUUACAGCUCCAUACAUGAGGUGUUAUCCCUAUGCAAGUUCGAUCAGGCGAAACGGUGAAAGCCGUAGGUUGCCCAGAGACAAU',\n",
       " '((((((((((((((((((..............................................))))).))))).....(((((....))))).)))))))).........',\n",
       " '(-34.22)']"
      ]
     },
     "execution_count": 325,
     "metadata": {},
     "output_type": "execute_result"
    }
   ],
   "source": [
    "p = subprocess.run([p_name, \"--temp=25\",\"--constraint\"], \n",
    "                    input = bytes(open(\"AND_OBS12.txt\").read(), \"ascii\"), \n",
    "                    stdout = subprocess.PIPE,\n",
    "                    stderr = subprocess.PIPE,\n",
    "                    check = True)\n",
    "p.stdout.decode().split()"
   ]
  },
  {
   "cell_type": "markdown",
   "metadata": {},
   "source": [
    "### AND_OBS1&2_Bind\n",
    "![](https://i.imgur.com/QnBDuNH.png)"
   ]
  },
  {
   "cell_type": "markdown",
   "metadata": {},
   "source": [
    "| AND | False | True |\n",
    "| :------: | :------: | :------: |\n",
    "| **False** | False | False |\n",
    "| **True** | False | True |"
   ]
  },
  {
   "cell_type": "code",
   "execution_count": 332,
   "metadata": {},
   "outputs": [],
   "source": [
    "OR_OBS1 = open(\"OR_OBS1.txt\",\"w\")\n",
    "OR_OBS1.write(OR + '\\n')\n",
    "for i in range(len(OR)):\n",
    "    if i > 25 and i < 46:\n",
    "        OR_OBS1.write(\"x\")\n",
    "    else:\n",
    "        OR_OBS1.write(\".\")\n",
    "OR_OBS1.close()"
   ]
  },
  {
   "cell_type": "code",
   "execution_count": 333,
   "metadata": {},
   "outputs": [],
   "source": [
    "OR_OBS2 = open(\"OR_OBS2.txt\",\"w\")\n",
    "OR_OBS2.write(OR + '\\n')\n",
    "for i in range(len(OR)):\n",
    "    if i > 45 and i < 66:\n",
    "        OR_OBS2.write(\"x\")\n",
    "    else:\n",
    "        OR_OBS2.write(\".\")\n",
    "OR_OBS2.close()"
   ]
  },
  {
   "cell_type": "code",
   "execution_count": 334,
   "metadata": {},
   "outputs": [],
   "source": [
    "OR_OBS12 = open(\"OR_OBS12.txt\",\"w\")\n",
    "OR_OBS12.write(OR + '\\n')\n",
    "for i in range(len(OR)):\n",
    "    if (i > 45 and i < 66) or(i > 25 and i < 46):\n",
    "        OR_OBS12.write(\"x\")\n",
    "    else:\n",
    "        OR_OBS12.write(\".\")\n",
    "OR_OBS12.close()"
   ]
  },
  {
   "cell_type": "code",
   "execution_count": 345,
   "metadata": {},
   "outputs": [
    {
     "data": {
      "text/plain": [
       "['GGGCGACCCCUGAUGGCUUGGUUGAGUAUUUACAGCUCCAUAUACAUGAGGUGUUCUCCCUACGCAAGUUCGAUCAGGCGAAACGGUGAAAGCCGUAGGUUGCCC',\n",
       " '((((((((((((((((((((((.(((.............................)))...)).))))))..))))))....(((((....))))).))))))))',\n",
       " '(-33.23)']"
      ]
     },
     "execution_count": 345,
     "metadata": {},
     "output_type": "execute_result"
    }
   ],
   "source": [
    "p = subprocess.run([p_name, \"--temp=35\",\"--constraint\"], \n",
    "                    input = bytes(open(\"OR_OBS1.txt\").read(), \"ascii\"), \n",
    "                    stdout = subprocess.PIPE,\n",
    "                    stderr = subprocess.PIPE,\n",
    "                    check = True)\n",
    "p.stdout.decode().split()"
   ]
  },
  {
   "cell_type": "markdown",
   "metadata": {},
   "source": [
    "### OR_OBS1_Bind\n",
    "\n",
    "![](https://i.imgur.com/LXq4DKF.png)"
   ]
  },
  {
   "cell_type": "code",
   "execution_count": 346,
   "metadata": {
    "scrolled": false
   },
   "outputs": [
    {
     "data": {
      "text/plain": [
       "['GGGCGACCCCUGAUGGCUUGGUUGAGUAUUUACAGCUCCAUAUACAUGAGGUGUUCUCCCUACGCAAGUUCGAUCAGGCGAAACGGUGAAAGCCGUAGGUUGCCC',\n",
       " '((((((((.....(.(((((((((((..........................................))))))))))).).(((((....))))).))))))))',\n",
       " '(-30.33)']"
      ]
     },
     "execution_count": 346,
     "metadata": {},
     "output_type": "execute_result"
    }
   ],
   "source": [
    "p = subprocess.run([p_name, \"--temp=35\",\"--constraint\"], \n",
    "                    input = bytes(open(\"OR_OBS2.txt\").read(), \"ascii\"), \n",
    "                    stdout = subprocess.PIPE,\n",
    "                    stderr = subprocess.PIPE,\n",
    "                    check = True)\n",
    "p.stdout.decode().split()"
   ]
  },
  {
   "cell_type": "markdown",
   "metadata": {},
   "source": [
    "### OR_OBS2_Bind\n",
    "\n",
    "![](https://i.imgur.com/UU5OYpR.png)"
   ]
  },
  {
   "cell_type": "code",
   "execution_count": 348,
   "metadata": {},
   "outputs": [
    {
     "data": {
      "text/plain": [
       "['GGGCGACCCCUGAUGGCUUGGUUGAGUAUUUACAGCUCCAUAUACAUGAGGUGUUCUCCCUACGCAAGUUCGAUCAGGCGAAACGGUGAAAGCCGUAGGUUGCCC',\n",
       " '((((((((.....(.(((((((((((..........................................))))))))))).).(((((....))))).))))))))',\n",
       " '(-30.33)']"
      ]
     },
     "execution_count": 348,
     "metadata": {},
     "output_type": "execute_result"
    }
   ],
   "source": [
    "p = subprocess.run([p_name, \"--temp=35\",\"--constraint\"], \n",
    "                    input = bytes(open(\"OR_OBS12.txt\").read(), \"ascii\"), \n",
    "                    stdout = subprocess.PIPE,\n",
    "                    stderr = subprocess.PIPE,\n",
    "                    check = True)\n",
    "p.stdout.decode().split()"
   ]
  },
  {
   "cell_type": "markdown",
   "metadata": {},
   "source": [
    "### OR_OBS12_Bind\n",
    "\n",
    "![](https://i.imgur.com/Z9wUMvJ.png)"
   ]
  },
  {
   "cell_type": "markdown",
   "metadata": {},
   "source": [
    "| OR | False | True |\n",
    "| :------: | :------: | :------: |\n",
    "| **False** | False | True |\n",
    "| **True** | True | True |"
   ]
  },
  {
   "cell_type": "markdown",
   "metadata": {},
   "source": [
    "### Conclusion\n",
    "--------------\n",
    "1. Created a table for each riboswitch sequence described in the paper. Then type in information of the start and end postition of the binding and functional regions.\n",
    "\n",
    "2. Used RNAfold to simulate the base-pair folding in those four sequences with minimum free energy, and generate the illustration.\n",
    "\n",
    "3. Generated the constraint file which includes the whole sequence and the position that contrain binding. Used RNAfold with --constraint parameter to simulate the existence of OBS complementary sequence.\n",
    "\n",
    "4. The parameters used in paper have not been clarified; therefore, it is hard for us to get the fully matched sequence as the paper. Despite the slight difference, the binding behavior of the sequence approximately accord with the paper and the designed logic gate works."
   ]
  },
  {
   "cell_type": "code",
   "execution_count": null,
   "metadata": {},
   "outputs": [],
   "source": []
  }
 ],
 "metadata": {
  "kernelspec": {
   "display_name": "Python 3",
   "language": "python",
   "name": "python3"
  },
  "language_info": {
   "codemirror_mode": {
    "name": "ipython",
    "version": 3
   },
   "file_extension": ".py",
   "mimetype": "text/x-python",
   "name": "python",
   "nbconvert_exporter": "python",
   "pygments_lexer": "ipython3",
   "version": "3.7.0"
  }
 },
 "nbformat": 4,
 "nbformat_minor": 2
}
