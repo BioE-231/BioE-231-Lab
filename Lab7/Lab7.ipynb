{
 "cells": [
  {
   "cell_type": "markdown",
   "metadata": {},
   "source": [
    "## Simulating the data"
   ]
  },
  {
   "cell_type": "code",
   "execution_count": 20,
   "metadata": {},
   "outputs": [],
   "source": [
    "import numpy as np\n",
    "from Bio import SeqIO"
   ]
  },
  {
   "cell_type": "code",
   "execution_count": 35,
   "metadata": {},
   "outputs": [
    {
     "data": {
      "text/plain": [
       "array(['G', 'T', 'G', ..., 'C', 'C', 'A'], dtype='<U1')"
      ]
     },
     "execution_count": 35,
     "metadata": {},
     "output_type": "execute_result"
    }
   ],
   "source": [
    "rand_seqs = np.random.choice(['A','T','C','G'], size = 100000000)\n",
    "rand_seqs\n",
    "# Generate random DNA data."
   ]
  },
  {
   "cell_type": "code",
   "execution_count": 36,
   "metadata": {},
   "outputs": [
    {
     "data": {
      "text/plain": [
       "100000000"
      ]
     },
     "execution_count": 36,
     "metadata": {},
     "output_type": "execute_result"
    }
   ],
   "source": [
    "open(\"Random_seq.fa\",\"w\").write(\"\".join(rand_seqs))"
   ]
  },
  {
   "cell_type": "code",
   "execution_count": 157,
   "metadata": {},
   "outputs": [
    {
     "data": {
      "text/plain": [
       "array(['N', 'N', 'I', ..., 'V', 'L', 'M'], dtype='<U1')"
      ]
     },
     "execution_count": 157,
     "metadata": {},
     "output_type": "execute_result"
    }
   ],
   "source": [
    "protein_seqs = np.random.choice(['A', 'R', 'N', 'D', 'C', 'E', 'Q', 'G', 'H', 'I','L', 'K', 'M', 'F', 'P','S', 'T','W', 'Y', 'V'], size = 100000000)\n",
    "protein_seqs \n",
    "# Generate random protein data."
   ]
  },
  {
   "cell_type": "code",
   "execution_count": 158,
   "metadata": {},
   "outputs": [
    {
     "data": {
      "text/plain": [
       "100000000"
      ]
     },
     "execution_count": 158,
     "metadata": {},
     "output_type": "execute_result"
    }
   ],
   "source": [
    "open(\"Protein_seq.fa\",'w').write(\"\".join(protein_seqs))"
   ]
  },
  {
   "cell_type": "code",
   "execution_count": 50,
   "metadata": {},
   "outputs": [],
   "source": [
    "def binary_generator(length,zero_prob):\n",
    "    array = np.random.choice([0,1], size = length, replace = True, p = [zero_prob,1-zero_prob])\n",
    "    array = np.packbits(array)\n",
    "    return open(\"zeros_%d\" %(zero_prob*100), \"wb\").write(array)\n",
    "# Write a function to generate different zero ratio binary data."
   ]
  },
  {
   "cell_type": "code",
   "execution_count": 54,
   "metadata": {},
   "outputs": [
    {
     "data": {
      "text/plain": [
       "104857600"
      ]
     },
     "execution_count": 54,
     "metadata": {},
     "output_type": "execute_result"
    }
   ],
   "source": [
    "binary_generator(838860800, 1)"
   ]
  },
  {
   "cell_type": "code",
   "execution_count": 55,
   "metadata": {},
   "outputs": [
    {
     "data": {
      "text/plain": [
       "104857600"
      ]
     },
     "execution_count": 55,
     "metadata": {},
     "output_type": "execute_result"
    }
   ],
   "source": [
    "binary_generator(838860800, 0.9)"
   ]
  },
  {
   "cell_type": "code",
   "execution_count": 56,
   "metadata": {},
   "outputs": [
    {
     "data": {
      "text/plain": [
       "104857600"
      ]
     },
     "execution_count": 56,
     "metadata": {},
     "output_type": "execute_result"
    }
   ],
   "source": [
    "binary_generator(838860800, 0.8)"
   ]
  },
  {
   "cell_type": "code",
   "execution_count": 60,
   "metadata": {},
   "outputs": [
    {
     "data": {
      "text/plain": [
       "104857600"
      ]
     },
     "execution_count": 60,
     "metadata": {},
     "output_type": "execute_result"
    }
   ],
   "source": [
    "binary_generator(838860800, 0.7)"
   ]
  },
  {
   "cell_type": "code",
   "execution_count": 58,
   "metadata": {},
   "outputs": [
    {
     "data": {
      "text/plain": [
       "104857600"
      ]
     },
     "execution_count": 58,
     "metadata": {},
     "output_type": "execute_result"
    }
   ],
   "source": [
    "binary_generator(838860800, 0.6)"
   ]
  },
  {
   "cell_type": "code",
   "execution_count": 59,
   "metadata": {},
   "outputs": [
    {
     "data": {
      "text/plain": [
       "104857600"
      ]
     },
     "execution_count": 59,
     "metadata": {},
     "output_type": "execute_result"
    }
   ],
   "source": [
    "binary_generator(838860800, 0.5)"
   ]
  },
  {
   "cell_type": "markdown",
   "metadata": {},
   "source": [
    "## Compressing the data\n",
    "All the terminal commands and outputs are shown as follows:"
   ]
  },
  {
   "cell_type": "markdown",
   "metadata": {},
   "source": [
    "**time gzip -k zeros_100**  \n",
    "real    0m0.730s  \n",
    "user    0m0.706s  \n",
    "sys     0m0.025s  "
   ]
  },
  {
   "cell_type": "markdown",
   "metadata": {},
   "source": [
    "**time bzip2 -k zeros_100**  \n",
    "real    0m1.057s  \n",
    "user    0m1.009s  \n",
    "sys     0m0.049s  "
   ]
  },
  {
   "cell_type": "markdown",
   "metadata": {},
   "source": [
    "**time pbzip2 -k zeros_100**  \n",
    "real    0m0.110s  \n",
    "user    0m2.000s  \n",
    "sys     0m0.109s  "
   ]
  },
  {
   "cell_type": "markdown",
   "metadata": {},
   "source": [
    "**time ArithmeticCompress zeros_100 zeros_100.art**  \n",
    "real    0m14.974s  \n",
    "user    0m14.722s  \n",
    "sys     0m0.252s  "
   ]
  },
  {
   "cell_type": "markdown",
   "metadata": {},
   "source": [
    "**time gzip -k zeros_90**  \n",
    "real    0m18.843s  \n",
    "user    0m18.722s  \n",
    "sys     0m0.121s  "
   ]
  },
  {
   "cell_type": "markdown",
   "metadata": {},
   "source": [
    "**time bzip2 -k zeros_90**  \n",
    "real    0m10.735s  \n",
    "user    0m10.639s  \n",
    "sys     0m0.096s  "
   ]
  },
  {
   "cell_type": "markdown",
   "metadata": {},
   "source": [
    "**time pbzip2 -k zeros_90**  \n",
    "real    0m0.768s  \n",
    "user    0m18.928s  \n",
    "sys     0m0.916s  "
   ]
  },
  {
   "cell_type": "markdown",
   "metadata": {},
   "source": [
    "**time ArithmeticCompress zeros_90 zeros_90.art**  \n",
    "real    0m28.859s  \n",
    "user    0m28.594s  \n",
    "sys     0m0.265s  "
   ]
  },
  {
   "cell_type": "markdown",
   "metadata": {},
   "source": [
    "**time gzip -k zeros_80**  \n",
    "real    0m13.409s  \n",
    "user    0m13.229s  \n",
    "sys     0m0.177s  "
   ]
  },
  {
   "cell_type": "markdown",
   "metadata": {},
   "source": [
    "**time bzip2 -k zeros_80**  \n",
    "real    0m11.977s  \n",
    "user    0m11.832s  \n",
    "sys     0m0.145s  "
   ]
  },
  {
   "cell_type": "markdown",
   "metadata": {},
   "source": [
    "**time pbzip2 -k zeros_80**  \n",
    "real    0m0.938s  \n",
    "user    0m23.710s  \n",
    "sys     0m0.776s  "
   ]
  },
  {
   "cell_type": "markdown",
   "metadata": {},
   "source": [
    "**time ArithmeticCompress zeros_80 zeros_80.art**  \n",
    "real    0m35.495s  \n",
    "user    0m35.167s  \n",
    "sys     0m0.317s  "
   ]
  },
  {
   "cell_type": "markdown",
   "metadata": {},
   "source": [
    "**time gzip -k zeros_70**  \n",
    "real    0m6.302s  \n",
    "user    0m6.154s  \n",
    "sys     0m0.149s  "
   ]
  },
  {
   "cell_type": "markdown",
   "metadata": {},
   "source": [
    "**time bzip2 -k zeros_70**  \n",
    "real    0m13.865s  \n",
    "user    0m13.716s  \n",
    "sys     0m0.149s  "
   ]
  },
  {
   "cell_type": "markdown",
   "metadata": {},
   "source": [
    "**time pbzip2 -k zeros_70**  \n",
    "real    0m1.182s  \n",
    "user    0m30.102s  \n",
    "sys     0m0.802s  "
   ]
  },
  {
   "cell_type": "markdown",
   "metadata": {},
   "source": [
    "**time ArithmeticCompress zeros_70 zeros_70.art**  \n",
    "real    0m39.115s  \n",
    "user    0m38.870s  \n",
    "sys     0m0.245s  "
   ]
  },
  {
   "cell_type": "markdown",
   "metadata": {},
   "source": [
    "**time gzip -k zeros_60**  \n",
    "real    0m4.276s  \n",
    "user    0m4.131s  \n",
    "sys     0m0.145s  "
   ]
  },
  {
   "cell_type": "markdown",
   "metadata": {},
   "source": [
    "**time bzip2 -k zeros_60**  \n",
    "real    0m15.762s  \n",
    "user    0m15.633s  \n",
    "sys     0m0.129s  "
   ]
  },
  {
   "cell_type": "markdown",
   "metadata": {},
   "source": [
    "**time pbzip2 -k zeros_60**  \n",
    "real    0m1.384s    \n",
    "user    0m36.626s  \n",
    "sys     0m0.839s"
   ]
  },
  {
   "cell_type": "markdown",
   "metadata": {},
   "source": [
    "**time ArithmeticCompress zeros_60 zeros_60.art**  \n",
    "real    0m41.116s  \n",
    "user    0m40.727s  \n",
    "sys     0m0.388s  "
   ]
  },
  {
   "cell_type": "markdown",
   "metadata": {},
   "source": [
    "**time gzip -k zeros_50**  \n",
    "real    0m3.533s  \n",
    "user    0m3.384s  \n",
    "sys     0m0.149s  "
   ]
  },
  {
   "cell_type": "markdown",
   "metadata": {},
   "source": [
    "**time bzip2 -k zeros_50**  \n",
    "real    0m16.632s  \n",
    "user    0m16.503s  \n",
    "sys     0m0.129s  "
   ]
  },
  {
   "cell_type": "markdown",
   "metadata": {},
   "source": [
    "**time pbzip2 -k zeros_50**  \n",
    "real    0m1.520s  \n",
    "user    0m39.651s  \n",
    "sys     0m0.982s  "
   ]
  },
  {
   "cell_type": "markdown",
   "metadata": {},
   "source": [
    "**time ArithmeticCompress zeros_50 zeros_50.art**  \n",
    "real    0m40.780s  \n",
    "user    0m40.392s  \n",
    "sys     0m0.388s  "
   ]
  },
  {
   "cell_type": "markdown",
   "metadata": {},
   "source": [
    "**time gzip -k Random_seq.fa**  \n",
    "real    0m12.113s  \n",
    "user    0m12.064s  \n",
    "sys     0m0.048s  "
   ]
  },
  {
   "cell_type": "markdown",
   "metadata": {},
   "source": [
    "**time bzip2 -k Random_seq.fa**  \n",
    "real    0m9.482s  \n",
    "user    0m9.414s  \n",
    "sys     0m0.068s  "
   ]
  },
  {
   "cell_type": "markdown",
   "metadata": {},
   "source": [
    "**time pbzip2 -k Random_seq.fa**  \n",
    "real    0m0.677s  \n",
    "user    0m16.250s  \n",
    "sys     0m0.677s  "
   ]
  },
  {
   "cell_type": "markdown",
   "metadata": {},
   "source": [
    "**time ArithmeticCompress Random_seq.fa  Random_seq.fa.art**  \n",
    "real    0m21.409s  \n",
    "user    0m21.288s  \n",
    "sys     0m0.121s  "
   ]
  },
  {
   "cell_type": "markdown",
   "metadata": {},
   "source": [
    "### Try to run the compression process automatically by using \"!\" \n"
   ]
  },
  {
   "cell_type": "code",
   "execution_count": 159,
   "metadata": {},
   "outputs": [
    {
     "name": "stdout",
     "output_type": "stream",
     "text": [
      "5.38user 0.10system 0:05.48elapsed 100%CPU (0avgtext+0avgdata 1796maxresident)k\n",
      "0inputs+118280outputs (0major+218minor)pagefaults 0swaps\n",
      "10.06user 0.09system 0:10.15elapsed 99%CPU (0avgtext+0avgdata 7816maxresident)k\n",
      "0inputs+107928outputs (0major+1692minor)pagefaults 0swaps\n",
      "19.13user 0.76system 0:00.79elapsed 2496%CPU (0avgtext+0avgdata 269440maxresident)k\n",
      "0inputs+107952outputs (0major+213502minor)pagefaults 0swaps\n",
      "pbzip2: *ERROR: Output file [Protein_seq.fa.bz2] already exists!  Use -f to overwrite...\n",
      "-------------------------------------------\n",
      "Command exited with non-zero status 1\n",
      "0.00user 0.00system 0:00.00elapsed 100%CPU (0avgtext+0avgdata 3216maxresident)k\n",
      "0inputs+0outputs (0major+134minor)pagefaults 0swaps\n",
      "28.25user 0.27system 0:28.53elapsed 99%CPU (0avgtext+0avgdata 4348maxresident)k\n",
      "0inputs+105520outputs (0major+234minor)pagefaults 0swaps\n"
     ]
    }
   ],
   "source": [
    "compress = ['gzip', 'bzip2', 'pbzip2','ArithmeticCompress']\n",
    "for i in compress:\n",
    "    if i == 'pbzip2':\n",
    "        ! mv Protein_seq.fa.bz2 Protein_seq.fa_bzip2.bz2\n",
    "        ! time {i} -k Protein_seq.fa\n",
    "    if i == 'ArithmeticCompress':\n",
    "        ! time {i} Protein_seq.fa Protein_seq.fa.art\n",
    "    else:\n",
    "        ! time {i} -k Protein_seq.fa\n",
    "# This "
   ]
  },
  {
   "cell_type": "markdown",
   "metadata": {},
   "source": [
    "### The comparision of compressed size and required time is listed as follows:  \n",
    "![](https://i.imgur.com/FkRCo1f.jpg)"
   ]
  },
  {
   "cell_type": "markdown",
   "metadata": {},
   "source": [
    "### Questions\n",
    ">  **Which algorithm achieves the best level of compression on each file type?**  \n",
    "For binary files, when the ratio of zero reaches 100%, bzip2 method achieves the best level of compression, while other methods also do a good job, the compression ratio is extremely high, maybe because of the identity of the data.  \n",
    "For zero ratio of 90%, 80%, 70%, 60%, arithmetic method usually achieves the best compression level; however, it is relatively time-consuming. Gzip is the method that can achieve the second best compression rate and the time it used is quite compelling. Among all those four methods, pbzip2 is the fastest because of its use of multithreading.  \n",
    "From those data, we can make the conclusion that the increase of randomness, would decrease the compression rate, no matter for which methods.\n",
    "\n",
    ">**Which algorithm is the fastest?**  \n",
    "Pbzip2 is the fastest for its use of multithreading.\n",
    "\n",
    ">**What is the difference between bzip2 and pbzip2? Do you expect one to be faster and why?**  \n",
    "Pbzip2 is a parallel implementation of the bzip2 block-sorting file compressor that uses pthreads and achieves near-linear speedup on SMP machines. Therefore, pbzip2 is much faster than bzip2.\n",
    "\n",
    ">**How does the level of compression change as the percentage of zeros increases? Why does this happen?**  \n",
    "The increase of percentage of zeros would increase the randomness of the data; therefore, the level of compression would decline.\n",
    "\n",
    ">**What is the minimum number of bits required to store a single DNA base?**  \n",
    "Theoretically, it should be 2 bits.\n",
    "\n",
    ">**What is the minimum number of bits required to store an amino acid letter?**  \n",
    "Theoretically, it should be 4.32 bits.\n",
    "\n",
    ">**In your tests, how many bits did gzip and bzip2 actually require to store your random DNA and protein sequences?**  \n",
    "For random DNA sequences, Gzip gets a result of 29.2MB, while bzip2 is 27.3MB and the compression rate is 29.2% and 27.3%, respectively. For random protein sequences, Gzip gets a result of 60.6MB, while bzip2 is 55.3MB and the compression rate is 60.6% and 55.3%, respectively.\n",
    "\n",
    ">**Are gzip and bzip2 performing well on DNA and proteins?** \n",
    "I think they do a good job, for their compression rate is pretty close to the theoretical minimum size. Besides, bzip2 is better than gzip in this case.\n"
   ]
  },
  {
   "cell_type": "markdown",
   "metadata": {},
   "source": [
    "## Compressing real data"
   ]
  },
  {
   "cell_type": "code",
   "execution_count": 160,
   "metadata": {},
   "outputs": [],
   "source": [
    "from Bio import Entrez\n",
    "Entrez.email = \"yixun_tan@berkeley.edu\"\n",
    "handle = Entrez.esearch(db = 'nucleotide',\n",
    "                       term = 'gp120 ' + \"HIV\",\n",
    "                       sort = 'relevance',\n",
    "                       idtype = 'acc',\n",
    "                       retmax = 20)\n",
    "# Using Entrez to acquire gp120 homologs from different HIV isolates and get the first 20 results."
   ]
  },
  {
   "cell_type": "code",
   "execution_count": 109,
   "metadata": {},
   "outputs": [],
   "source": [
    "# sequences = []\n",
    "sequence = open(\"sequence.fa\",\"w\")\n",
    "for i in Entrez.read(handle)['IdList']:\n",
    "    data = Entrez.efetch(db = 'nucleotide', id = i, rettype = 'fasta', retmode = 'text')\n",
    "    sequence.write(data.read())\n",
    "sequence.close()\n",
    "    #sequences.append(data.read())"
   ]
  },
  {
   "cell_type": "code",
   "execution_count": 161,
   "metadata": {
    "scrolled": true
   },
   "outputs": [],
   "source": [
    "#open(\"sequence.fa\").readlines()"
   ]
  },
  {
   "cell_type": "markdown",
   "metadata": {},
   "source": [
    "**Commands and outputs to compress the real data.**"
   ]
  },
  {
   "cell_type": "markdown",
   "metadata": {},
   "source": [
    "**time gzip -k sequence.fa**  \n",
    "real    0m0.003s  \n",
    "user    0m0.000s  \n",
    "sys     0m0.003s  "
   ]
  },
  {
   "cell_type": "markdown",
   "metadata": {},
   "source": [
    "**time bzip2 -k sequence.fa**  \n",
    "real    0m0.008s  \n",
    "user    0m0.004s  \n",
    "sys     0m0.004s  "
   ]
  },
  {
   "cell_type": "markdown",
   "metadata": {},
   "source": [
    "**time pbzip2 -k sequence.fa**  \n",
    "real    0m0.010s  \n",
    "user    0m0.010s  \n",
    "sys     0m0.000s  "
   ]
  },
  {
   "cell_type": "markdown",
   "metadata": {},
   "source": [
    "**time ArithmeticCompress sequence.fa sequence.fa.art**\n",
    "real    0m0.014s  \n",
    "user    0m0.014s  \n",
    "sys     0m0.000s  "
   ]
  },
  {
   "cell_type": "markdown",
   "metadata": {},
   "source": [
    "### Questions\n",
    "> **A priori, do you expect to achieve better or worse compression here than random data? Why?**  \n",
    "I suppose that the compression rate would be better than random data because the real data are less random and the percentage of different bases varies, which could be compressed better according to the lecture.  \n",
    "\n",
    "> **How does the compression ratio of this file compare to random data?**  \n",
    "The compression ratio is much lower than random data. For gzip, it is 12.0% vs 29.2%."
   ]
  },
  {
   "cell_type": "markdown",
   "metadata": {},
   "source": [
    "### Estimating compression of 1000 terabytes"
   ]
  },
  {
   "cell_type": "markdown",
   "metadata": {},
   "source": [
    "**For 80% of re-sequencing of genomes and plasmids.**  \n",
    "It is believed that those data is similar to the 'gp120' HIV isolates data in the aforementioned benchmarking data. Therefore, I decide to use pbzip2 compression algorithm for this type of data.  \n",
    "**For 10% of protein sequences.**  \n",
    "Though the arithmetic method gains the best compression level of protein sequences in the previous experiments, the time it use is too long to process such a large data set. Therefore, I prefer to use pbzip2 to handle this part of data with a slightly lower compression ratio but much faster speed.  \n",
    "**For 10% of binary microscope image.**  \n",
    "Again, because of the same reason, the arithmetic method is not taken into account. Gzip algorithm would be used in this part of work because the data set is relatively smaller and gzip could achieve a better performance than pbzip2. Therefore, based on economic effect, I would prefer gzip better.  \n",
    "**Estimation of saving-space and bonus.**  \n",
    "Using the estimated compression ratio I have generated above to calculate the saving-space and bonus."
   ]
  },
  {
   "cell_type": "code",
   "execution_count": 170,
   "metadata": {},
   "outputs": [
    {
     "name": "stdout",
     "output_type": "stream",
     "text": [
      "The estimated compression rate of the whole data set is: 25.84%\n",
      "The estimated bonus: $37077.98\n"
     ]
    }
   ],
   "source": [
    "Compression_rate_geno = 1.56 / 12.1\n",
    "Compression_rate_pro = 55.3 / 100\n",
    "Compression_rate_bi = 105 / 105\n",
    "Total_Compression = Compression_rate_geno*80 + Compression_rate_pro*10 + Compression_rate_bi*10\n",
    "Bonus = (100 - Total_Compression) * 500\n",
    "print('The estimated compression rate of the whole data set is: %.2f%%' % Total_Compression)\n",
    "print('The estimated bonus: $%.2f' %Bonus)"
   ]
  },
  {
   "cell_type": "code",
   "execution_count": null,
   "metadata": {},
   "outputs": [],
   "source": []
  }
 ],
 "metadata": {
  "kernelspec": {
   "display_name": "Python 3",
   "language": "python",
   "name": "python3"
  },
  "language_info": {
   "codemirror_mode": {
    "name": "ipython",
    "version": 3
   },
   "file_extension": ".py",
   "mimetype": "text/x-python",
   "name": "python",
   "nbconvert_exporter": "python",
   "pygments_lexer": "ipython3",
   "version": "3.6.6"
  }
 },
 "nbformat": 4,
 "nbformat_minor": 2
}
